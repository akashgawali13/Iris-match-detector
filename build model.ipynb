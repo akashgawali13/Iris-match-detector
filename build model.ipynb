{
 "cells": [
  {
   "cell_type": "code",
   "execution_count": 7,
   "id": "c52dc0c1",
   "metadata": {},
   "outputs": [],
   "source": [
    "from tensorflow.keras.models import load_model\n"
   ]
  },
  {
   "cell_type": "code",
   "execution_count": 8,
   "id": "96adc459",
   "metadata": {},
   "outputs": [],
   "source": [
    "model = load_model(r\"C:\\Users\\akash\\Downloads\\siamese_model.h5\")"
   ]
  },
  {
   "cell_type": "code",
   "execution_count": 3,
   "id": "d4ecdaf8",
   "metadata": {},
   "outputs": [],
   "source": [
    "def build_siamese_model(input_shape=(100, 100, 1)):\n",
    "    def build_base_cnn():\n",
    "        model = models.Sequential([\n",
    "            layers.Conv2D(32, (3, 3), activation='relu', input_shape=input_shape),\n",
    "            layers.MaxPooling2D(),\n",
    "            layers.Conv2D(64, (3, 3), activation='relu'),\n",
    "            layers.MaxPooling2D(),\n",
    "            layers.Flatten(),\n",
    "            layers.Dense(128, activation='relu')\n",
    "        ])\n",
    "        return model\n",
    "\n",
    "    base_cnn = build_base_cnn()\n",
    "\n",
    "    input_a = Input(shape=input_shape)\n",
    "    input_b = Input(shape=input_shape)\n",
    "\n",
    "    feature_a = base_cnn(input_a)\n",
    "    feature_b = base_cnn(input_b)\n",
    "\n",
    "    # L1 distance\n",
    "    distance = layers.Lambda(lambda tensors: K.abs(tensors[0] - tensors[1]))([feature_a, feature_b])\n",
    "    output = layers.Dense(1, activation='sigmoid')(distance)\n",
    "\n",
    "    model = Model(inputs=[input_a, input_b], outputs=output)\n",
    "    return model"
   ]
  },
  {
   "cell_type": "code",
   "execution_count": 5,
   "id": "5dcdefaa",
   "metadata": {},
   "outputs": [],
   "source": [
    "from tensorflow.keras.models import load_model\n",
    "from tensorflow.keras import backend as K\n",
    "\n",
    "# Define any custom Lambda functions used during model creation\n",
    "def euclidean_distance(vects):\n",
    "    x, y = vects\n",
    "    return K.sqrt(K.sum(K.square(x - y), axis=1, keepdims=True))\n",
    "\n",
    "# Now load the model with custom_objects\n",
    "model = load_model(r\"C:\\Users\\akash\\Downloads\\siamese_model.h5\",\n",
    "                   custom_objects={'euclidean_distance': euclidean_distance, 'K': K})\n"
   ]
  },
  {
   "cell_type": "code",
   "execution_count": null,
   "id": "2bbb7862",
   "metadata": {},
   "outputs": [],
   "source": []
  }
 ],
 "metadata": {
  "kernelspec": {
   "display_name": "Python 3",
   "language": "python",
   "name": "python3"
  },
  "language_info": {
   "codemirror_mode": {
    "name": "ipython",
    "version": 3
   },
   "file_extension": ".py",
   "mimetype": "text/x-python",
   "name": "python",
   "nbconvert_exporter": "python",
   "pygments_lexer": "ipython3",
   "version": "3.10.0"
  }
 },
 "nbformat": 4,
 "nbformat_minor": 5
}
