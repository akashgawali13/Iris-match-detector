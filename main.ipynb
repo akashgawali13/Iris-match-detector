{
 "cells": [
  {
   "cell_type": "code",
   "execution_count": 1,
   "id": "bdcadc49",
   "metadata": {},
   "outputs": [
    {
     "name": "stdout",
     "output_type": "stream",
     "text": [
      "Extraction complete.\n"
     ]
    }
   ],
   "source": [
    "import zipfile\n",
    "\n",
    "zip_path = r'E:\\Project\\iris detection\\archive (1).zip'  # <- raw string\n",
    "extract_path = 'iris_dataset'\n",
    "\n",
    "with zipfile.ZipFile(zip_path, 'r') as zip_ref:\n",
    "    zip_ref.extractall(extract_path)\n",
    "\n",
    "print(\"Extraction complete.\")\n"
   ]
  },
  {
   "cell_type": "code",
   "execution_count": 2,
   "id": "0a6ea9c0",
   "metadata": {},
   "outputs": [
    {
     "name": "stdout",
     "output_type": "stream",
     "text": [
      "Extracted folder path: E:\\Project\\iris detection\n"
     ]
    }
   ],
   "source": [
    "import os\n",
    "\n",
    "full_path = os.path.abspath(\"E:\\Project\\iris detection\")\n",
    "print(\"Extracted folder path:\", full_path)\n"
   ]
  },
  {
   "cell_type": "code",
   "execution_count": 3,
   "id": "500ddd4f",
   "metadata": {},
   "outputs": [],
   "source": [
    "import os\n",
    "import cv2\n",
    "import numpy as np\n",
    "\n",
    "data = []\n",
    "labels = []\n",
    "\n",
    "root_folder = r\"E:\\Project\\iris detection\\iris_dataset\"\n",
    "\n",
    "# Traverse all folders\n",
    "for person_folder in os.listdir(root_folder):\n",
    "    person_path = os.path.join(root_folder, person_folder)\n",
    "    if os.path.isdir(person_path):\n",
    "        for img_file in os.listdir(person_path):\n",
    "            img_path = os.path.join(person_path, img_file)\n",
    "            # Load image (grayscale or color based on your model)\n",
    "            img = cv2.imread(img_path, cv2.IMREAD_GRAYSCALE)  # or cv2.IMREAD_COLOR\n",
    "            if img is not None:\n",
    "                img_resized = cv2.resize(img, (100, 100))  # Resize for consistency\n",
    "                data.append(img_resized)\n",
    "                labels.append(person_folder)  # use folder name as label\n"
   ]
  },
  {
   "cell_type": "code",
   "execution_count": 4,
   "id": "7ab20ecd",
   "metadata": {},
   "outputs": [],
   "source": [
    "from sklearn.preprocessing import LabelEncoder\n",
    "\n",
    "X = np.array(data).reshape(len(data), 100, 100, 1)  # If grayscale; use (100,100,3) if color\n",
    "le = LabelEncoder()\n",
    "y = le.fit_transform(labels)\n"
   ]
  },
  {
   "cell_type": "code",
   "execution_count": 5,
   "id": "f26618eb",
   "metadata": {},
   "outputs": [
    {
     "name": "stdout",
     "output_type": "stream",
     "text": [
      "Total folders (people): 1000\n",
      "Sample folders: ['000', '001', '002', '003', '004']\n"
     ]
    }
   ],
   "source": [
    "import os\n",
    "\n",
    "root_folder =  r\"E:\\Project\\iris detection\\iris_dataset\"\n",
    "print(\"Total folders (people):\", len(os.listdir(root_folder)))\n",
    "\n",
    "# List a few folders for confirmation\n",
    "print(\"Sample folders:\", os.listdir(root_folder)[:5])\n"
   ]
  },
  {
   "cell_type": "code",
   "execution_count": 6,
   "id": "7af31c1f",
   "metadata": {},
   "outputs": [
    {
     "name": "stdout",
     "output_type": "stream",
     "text": [
      "✅ Loaded 10000 images.\n"
     ]
    }
   ],
   "source": [
    "import os\n",
    "import cv2\n",
    "import numpy as np\n",
    "\n",
    "data = []\n",
    "labels = []\n",
    "\n",
    "root_folder = r\"E:\\Project\\iris detection\\iris_dataset\" # Update if needed\n",
    "\n",
    "for person_folder in os.listdir(root_folder):\n",
    "    person_path = os.path.join(root_folder, person_folder)\n",
    "    if os.path.isdir(person_path):\n",
    "        for img_file in os.listdir(person_path):\n",
    "            img_path = os.path.join(person_path, img_file)\n",
    "            img = cv2.imread(img_path, cv2.IMREAD_GRAYSCALE)\n",
    "            if img is not None:\n",
    "                img = cv2.resize(img, (100, 100))\n",
    "                data.append(img)\n",
    "                labels.append(person_folder)\n",
    "\n",
    "print(f\"✅ Loaded {len(data)} images.\")\n",
    "X = np.array(data).reshape(-1, 100, 100, 1)\n",
    "y = np.array(labels)\n"
   ]
  },
  {
   "cell_type": "code",
   "execution_count": 7,
   "id": "8cc93e42",
   "metadata": {},
   "outputs": [
    {
     "name": "stdout",
     "output_type": "stream",
     "text": [
      "Total images loaded: 10000\n"
     ]
    }
   ],
   "source": [
    "print(\"Total images loaded:\", len(data))\n"
   ]
  },
  {
   "cell_type": "code",
   "execution_count": 8,
   "id": "8f4cde75",
   "metadata": {},
   "outputs": [],
   "source": [
    "data = np.array(data)\n",
    "labels = np.array(labels)\n"
   ]
  },
  {
   "cell_type": "code",
   "execution_count": 9,
   "id": "96b2767d",
   "metadata": {},
   "outputs": [],
   "source": [
    "X = np.array(data).reshape(-1, 100, 100, 1)\n",
    "y = np.array(labels)\n"
   ]
  },
  {
   "cell_type": "code",
   "execution_count": 10,
   "id": "1f60e151",
   "metadata": {},
   "outputs": [],
   "source": [
    "from sklearn.preprocessing import LabelEncoder\n",
    "\n",
    "X = np.array(data).reshape(len(data), 100, 100, 1)  # If grayscale; use (100,100,3) if color\n",
    "le = LabelEncoder()\n",
    "y = le.fit_transform(labels)\n"
   ]
  },
  {
   "cell_type": "code",
   "execution_count": 11,
   "id": "acec6c1b",
   "metadata": {},
   "outputs": [],
   "source": [
    "from sklearn.model_selection import train_test_split\n",
    "\n",
    "X_train, X_test, y_train, y_test = train_test_split(X, y, test_size=0.2, random_state=42)\n"
   ]
  },
  {
   "cell_type": "code",
   "execution_count": 12,
   "id": "077049ff",
   "metadata": {},
   "outputs": [],
   "source": [
    "import os\n",
    "import random\n",
    "import cv2\n",
    "import numpy as np\n",
    "from itertools import combinations\n",
    "\n",
    "def load_image(path, size=(100, 100)):\n",
    "    img = cv2.imread(path, cv2.IMREAD_GRAYSCALE)\n",
    "    if img is not None:\n",
    "        return cv2.resize(img, size)\n",
    "    return None\n",
    "\n",
    "def generate_image_pairs(root_dir, image_size=(100, 100), num_pairs_per_person=5):\n",
    "    pairs = []\n",
    "    labels = []\n",
    "\n",
    "    people = [p for p in os.listdir(root_dir) if os.path.isdir(os.path.join(root_dir, p))]\n",
    "    people.sort()\n",
    "\n",
    "    # Generate SAME pairs\n",
    "    for person in people:\n",
    "        person_path = os.path.join(root_dir, person)\n",
    "        images = [os.path.join(person_path, img) for img in os.listdir(person_path)\n",
    "                  if img.lower().endswith(('.jpg', '.jpeg', '.png'))]\n",
    "\n",
    "        combinations_same = list(combinations(images, 2))\n",
    "        random.shuffle(combinations_same)\n",
    "\n",
    "        for pair in combinations_same[:num_pairs_per_person]:\n",
    "            img1 = load_image(pair[0], image_size)\n",
    "            img2 = load_image(pair[1], image_size)\n",
    "            if img1 is not None and img2 is not None:\n",
    "                pairs.append([img1, img2])\n",
    "                labels.append(1)  # Same person\n",
    "\n",
    "    # Generate DIFFERENT pairs\n",
    "    for _ in range(len(pairs)):\n",
    "        person1, person2 = random.sample(people, 2)\n",
    "        img1_path = random.choice(os.listdir(os.path.join(root_dir, person1)))\n",
    "        img2_path = random.choice(os.listdir(os.path.join(root_dir, person2)))\n",
    "\n",
    "        img1 = load_image(os.path.join(root_dir, person1, img1_path), image_size)\n",
    "        img2 = load_image(os.path.join(root_dir, person2, img2_path), image_size)\n",
    "        if img1 is not None and img2 is not None:\n",
    "            pairs.append([img1, img2])\n",
    "            labels.append(0)  # Different person\n",
    "\n",
    "    pairs = np.array(pairs)\n",
    "    labels = np.array(labels)\n",
    "    return [pairs[:, 0], pairs[:, 1]], labels\n"
   ]
  },
  {
   "cell_type": "code",
   "execution_count": 13,
   "id": "c608063b",
   "metadata": {},
   "outputs": [
    {
     "name": "stdout",
     "output_type": "stream",
     "text": [
      "✅ TensorFlow version: 2.10.0\n",
      "✅ NumPy version: 1.23.5\n"
     ]
    }
   ],
   "source": [
    "import tensorflow as tf\n",
    "import numpy as np\n",
    "\n",
    "print(\"✅ TensorFlow version:\", tf.__version__)\n",
    "print(\"✅ NumPy version:\", np.__version__)\n"
   ]
  },
  {
   "cell_type": "code",
   "execution_count": 14,
   "id": "3b142834",
   "metadata": {},
   "outputs": [],
   "source": [
    "import os\n",
    "import cv2\n",
    "import numpy as np\n",
    "import random\n",
    "from itertools import combinations\n",
    "from sklearn.model_selection import train_test_split\n",
    "from tensorflow.keras import layers, models, Input, Model\n",
    "import tensorflow.keras.backend as K\n"
   ]
  },
  {
   "cell_type": "code",
   "execution_count": 15,
   "id": "f8354f09",
   "metadata": {},
   "outputs": [],
   "source": [
    "def build_siamese_model(input_shape=(100, 100, 1)):\n",
    "    def build_base_cnn():\n",
    "        model = models.Sequential([\n",
    "            layers.Conv2D(32, (3, 3), activation='relu', input_shape=input_shape),\n",
    "            layers.MaxPooling2D(),\n",
    "            layers.Conv2D(64, (3, 3), activation='relu'),\n",
    "            layers.MaxPooling2D(),\n",
    "            layers.Flatten(),\n",
    "            layers.Dense(128, activation='relu')\n",
    "        ])\n",
    "        return model\n",
    "\n",
    "    base_cnn = build_base_cnn()\n",
    "\n",
    "    input_a = Input(shape=input_shape)\n",
    "    input_b = Input(shape=input_shape)\n",
    "\n",
    "    feature_a = base_cnn(input_a)\n",
    "    feature_b = base_cnn(input_b)\n",
    "\n",
    "    # L1 distance\n",
    "    distance = layers.Lambda(lambda tensors: K.abs(tensors[0] - tensors[1]))([feature_a, feature_b])\n",
    "    output = layers.Dense(1, activation='sigmoid')(distance)\n",
    "\n",
    "    model = Model(inputs=[input_a, input_b], outputs=output)\n",
    "    return model\n"
   ]
  },
  {
   "cell_type": "code",
   "execution_count": 16,
   "id": "dd39686a",
   "metadata": {},
   "outputs": [
    {
     "name": "stdout",
     "output_type": "stream",
     "text": [
      "Epoch 1/10\n",
      "250/250 [==============================] - 80s 316ms/step - loss: 0.1535 - accuracy: 0.9262 - val_loss: 0.0787 - val_accuracy: 0.9785\n",
      "Epoch 2/10\n",
      "250/250 [==============================] - 78s 314ms/step - loss: 0.0469 - accuracy: 0.9887 - val_loss: 0.0416 - val_accuracy: 0.9930\n",
      "Epoch 3/10\n",
      "250/250 [==============================] - 112s 449ms/step - loss: 0.0372 - accuracy: 0.9933 - val_loss: 0.0560 - val_accuracy: 0.9930\n",
      "Epoch 4/10\n",
      "250/250 [==============================] - 196s 786ms/step - loss: 0.0249 - accuracy: 0.9954 - val_loss: 0.0390 - val_accuracy: 0.9935\n",
      "Epoch 5/10\n",
      "250/250 [==============================] - 80s 322ms/step - loss: 0.0147 - accuracy: 0.9974 - val_loss: 0.0449 - val_accuracy: 0.9920\n",
      "Epoch 6/10\n",
      "250/250 [==============================] - 81s 322ms/step - loss: 0.0164 - accuracy: 0.9979 - val_loss: 0.0483 - val_accuracy: 0.9845\n",
      "Epoch 7/10\n",
      "250/250 [==============================] - 80s 319ms/step - loss: 0.0129 - accuracy: 0.9977 - val_loss: 0.0308 - val_accuracy: 0.9930\n",
      "Epoch 8/10\n",
      "250/250 [==============================] - 80s 319ms/step - loss: 0.0058 - accuracy: 0.9992 - val_loss: 0.0304 - val_accuracy: 0.9940\n",
      "Epoch 9/10\n",
      "250/250 [==============================] - 78s 314ms/step - loss: 0.0142 - accuracy: 0.9961 - val_loss: 0.1853 - val_accuracy: 0.9825\n",
      "Epoch 10/10\n",
      "250/250 [==============================] - 82s 327ms/step - loss: 0.0391 - accuracy: 0.9924 - val_loss: 0.0239 - val_accuracy: 0.9965\n"
     ]
    },
    {
     "data": {
      "text/plain": [
       "<keras.callbacks.History at 0x22444feb940>"
      ]
     },
     "execution_count": 16,
     "metadata": {},
     "output_type": "execute_result"
    }
   ],
   "source": [
    "# Set dataset path\n",
    "root_dir = r\"E:\\Project\\iris detection\\iris_dataset\"  # Change as per your path\n",
    "(X1, X2), y = generate_image_pairs(root_dir)\n",
    "\n",
    "# Preprocess\n",
    "X1 = np.expand_dims(np.array(X1) / 255.0, axis=-1)\n",
    "X2 = np.expand_dims(np.array(X2) / 255.0, axis=-1)\n",
    "y = np.array(y)\n",
    "\n",
    "# Split\n",
    "X1_train, X1_test, X2_train, X2_test, y_train, y_test = train_test_split(\n",
    "    X1, X2, y, test_size=0.2, random_state=42\n",
    ")\n",
    "\n",
    "# Train model\n",
    "model = build_siamese_model(input_shape=(100, 100, 1))\n",
    "model.compile(optimizer='adam', loss='binary_crossentropy', metrics=['accuracy'])\n",
    "model.fit([X1_train, X2_train], y_train, validation_data=([X1_test, X2_test], y_test), epochs=10, batch_size=32)\n"
   ]
  },
  {
   "cell_type": "code",
   "execution_count": 17,
   "id": "44042cea",
   "metadata": {},
   "outputs": [
    {
     "name": "stdout",
     "output_type": "stream",
     "text": [
      "✅ Model saved as siamese_model.h5\n"
     ]
    }
   ],
   "source": [
    "# ✅ Save the model\n",
    "model.save(\"siamese_model.h5\")\n",
    "print(\"✅ Model saved as siamese_model.h5\")\n"
   ]
  },
  {
   "cell_type": "code",
   "execution_count": 18,
   "id": "840fa4cc",
   "metadata": {},
   "outputs": [],
   "source": [
    "model.save(\"siamese_model.h5\")\n"
   ]
  },
  {
   "cell_type": "code",
   "execution_count": 19,
   "id": "1d28f1f1",
   "metadata": {},
   "outputs": [],
   "source": [
    "def predict_same_person(img1_path, img2_path, model, image_size=(100, 100)):\n",
    "    def preprocess(path):\n",
    "        img = cv2.imread(path, cv2.IMREAD_GRAYSCALE)\n",
    "        img = cv2.resize(img, image_size)\n",
    "        img = img.astype('float32') / 255.0\n",
    "        return np.expand_dims(img, axis=(0, -1))\n",
    "\n",
    "    img1 = preprocess(img1_path)\n",
    "    img2 = preprocess(img2_path)\n",
    "\n",
    "    prediction = model.predict([img1, img2])[0][0]\n",
    "    if prediction > 0.5:\n",
    "        return f\"✅ Same person (Confidence: {prediction:.2f})\"\n",
    "    else:\n",
    "        return f\"❌ Different persons (Confidence: {1 - prediction:.2f})\"\n"
   ]
  },
  {
   "cell_type": "code",
   "execution_count": 23,
   "id": "4db535c6",
   "metadata": {},
   "outputs": [],
   "source": [
    "def predict_same_person(model, image_size=(100, 100)):\n",
    "    img1_path = r\"E:\\Project\\iris detection\\iris_dataset\\001\\S6001S00.jpg\"\n",
    "    img2_path = r\"E:\\Project\\iris detection\\iris_dataset\\001\\S6001S03.jpg\"\n",
    "\n",
    "    def preprocess(path):\n",
    "        img = cv2.imread(path, cv2.IMREAD_GRAYSCALE)\n",
    "        img = cv2.resize(img, image_size)\n",
    "        img = img.astype('float32') / 255.0\n",
    "        return np.expand_dims(img, axis=(0, -1))\n",
    "\n",
    "    img1 = preprocess(img1_path)\n",
    "    img2 = preprocess(img2_path)\n",
    "\n",
    "    prediction = model.predict([img1, img2])[0][0]\n",
    "    if prediction > 0.5:\n",
    "        return f\"✅ Same person (Confidence: {prediction:.2f})\"\n",
    "    else:\n",
    "        return f\"❌ Different persons (Confidence: {1 - prediction:.2f})\"\n",
    "    \n",
    "\n"
   ]
  },
  {
   "cell_type": "code",
   "execution_count": 24,
   "id": "f794519e",
   "metadata": {},
   "outputs": [
    {
     "name": "stdout",
     "output_type": "stream",
     "text": [
      "1/1 [==============================] - 0s 149ms/step\n",
      "✅ Same person (Confidence: 1.00)\n"
     ]
    }
   ],
   "source": [
    "print(predict_same_person(model))"
   ]
  },
  {
   "cell_type": "code",
   "execution_count": null,
   "id": "1d008dd4",
   "metadata": {},
   "outputs": [],
   "source": []
  }
 ],
 "metadata": {
  "kernelspec": {
   "display_name": "Python 3",
   "language": "python",
   "name": "python3"
  },
  "language_info": {
   "codemirror_mode": {
    "name": "ipython",
    "version": 3
   },
   "file_extension": ".py",
   "mimetype": "text/x-python",
   "name": "python",
   "nbconvert_exporter": "python",
   "pygments_lexer": "ipython3",
   "version": "3.10.0"
  }
 },
 "nbformat": 4,
 "nbformat_minor": 5
}
